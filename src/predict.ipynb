{
 "cells": [
  {
   "cell_type": "code",
   "execution_count": 1,
   "metadata": {
    "pycharm": {
     "name": "#%%\n"
    }
   },
   "outputs": [
    {
     "name": "stderr",
     "output_type": "stream",
     "text": [
      "/home/nlp/ron.eliav/anaconda3/envs/QASemv2/lib/python3.8/site-packages/tqdm/auto.py:21: TqdmWarning: IProgress not found. Please update jupyter and ipywidgets. See https://ipywidgets.readthedocs.io/en/stable/user_install.html\n",
      "  from .autonotebook import tqdm as notebook_tqdm\n"
     ]
    }
   ],
   "source": [
    "import torch\n",
    "import torch.nn as nn\n",
    "import torch.nn.functional as F\n",
    "from torchvision.models import resnet50, ResNet50_Weights\n",
    "import pytorch_lightning as pl"
   ]
  },
  {
   "cell_type": "code",
   "execution_count": 2,
   "metadata": {
    "pycharm": {
     "name": "#%%\n"
    }
   },
   "outputs": [],
   "source": [
    "class Identity(nn.Module):\n",
    "    def __init__(self):\n",
    "        super(Identity, self).__init__()\n",
    "    def forward(self, x):\n",
    "        return x\n",
    "\n",
    "class PoseDetector(pl.LightningModule):\n",
    "    def __init__(self):\n",
    "        super().__init__()\n",
    "        weights = ResNet50_Weights.DEFAULT\n",
    "        self.model = resnet50(weights=weights)\n",
    "        self.model.fc = Identity()\n",
    "        self.regression = nn.Linear(2048, 6)\n",
    "        self.preprocess = weights.transforms()\n",
    "\n",
    "    def forward(self, x):\n",
    "        x = self.model(x)\n",
    "        x = self.regression(x)\n",
    "        return x\n",
    "\n",
    "    def training_step(self, batch, batch_idx):\n",
    "        # training_step defines the train loop.\n",
    "        x, y = batch\n",
    "        output = self(x)\n",
    "        loss = F.mse_loss(output, y)\n",
    "        self.log('train_loss', loss, prog_bar=True, sync_dist=True)\n",
    "        return loss\n",
    "    \n",
    "    def validation_step(self, batch, batch_idx):\n",
    "        x, y = batch\n",
    "        output = self(x)\n",
    "        loss = F.mse_loss(output, y)\n",
    "        self.log('val_loss', loss, prog_bar=True)\n",
    "        return loss\n",
    "\n",
    "    def configure_optimizers(self):\n",
    "        optimizer = torch.optim.Adam(self.parameters(), lr=1e-3)\n",
    "        return optimizer"
   ]
  },
  {
   "cell_type": "code",
   "execution_count": 3,
   "metadata": {
    "pycharm": {
     "name": "#%%\n"
    }
   },
   "outputs": [],
   "source": [
    "img = torch.load(\"/home/nlp/ron.eliav/pose3d/data/resnet_dev_data/181228_000833939_Camera_0.jpg.pt\")\n",
    "# img = torch.load(\"/home/nlp/ron.eliav/pose3d/data/resnet_data/180502_025112897_Camera_0.jpg.pt\")"
   ]
  },
  {
   "cell_type": "code",
   "execution_count": 4,
   "metadata": {
    "pycharm": {
     "name": "#%%\n"
    }
   },
   "outputs": [
    {
     "data": {
      "text/plain": [
       "tensor([[[ 2.1804,  2.1804,  2.1290,  ...,  2.0605,  1.8550,  1.4783],\n",
       "         [ 0.9474,  1.0844,  1.5125,  ...,  2.0605,  1.5982,  1.1358],\n",
       "         [-0.7479, -0.6452,  0.1254,  ...,  1.7180,  1.2214,  1.0159],\n",
       "         ...,\n",
       "         [ 0.2453,  0.2453,  0.2624,  ..., -1.2103, -1.2103, -1.1932],\n",
       "         [ 0.2282,  0.2282,  0.2453,  ..., -1.2103, -1.2445, -1.2617],\n",
       "         [ 0.2453,  0.2453,  0.2453,  ..., -1.2103, -1.2445, -1.2617]],\n",
       "\n",
       "        [[ 2.4111,  2.4111,  2.3235,  ...,  2.0784,  1.7108,  1.4132],\n",
       "         [ 1.7283,  1.7458,  1.9909,  ...,  1.9559,  1.3081,  0.9755],\n",
       "         [-0.2850, -0.2150,  0.3452,  ...,  1.6758,  1.1155,  0.9230],\n",
       "         ...,\n",
       "         [ 1.0805,  1.0805,  1.0805,  ..., -1.0728, -1.1078, -1.0903],\n",
       "         [ 1.0805,  1.0630,  1.0805,  ..., -1.1078, -1.1429, -1.1078],\n",
       "         [ 1.0805,  1.0805,  1.0630,  ..., -1.1078, -1.1078, -1.1078]],\n",
       "\n",
       "        [[ 2.5877,  2.5877,  2.4657,  ...,  1.8208,  1.5594,  1.2108],\n",
       "         [ 1.9428,  1.9603,  2.2043,  ...,  1.6640,  1.1585,  0.7751],\n",
       "         [ 0.0605,  0.1128,  0.6705,  ...,  1.4374,  0.8797,  0.6879],\n",
       "         ...,\n",
       "         [ 2.2043,  2.2043,  2.2043,  ..., -0.7413, -0.7238, -0.7413],\n",
       "         [ 2.1694,  2.1868,  2.2043,  ..., -0.7587, -0.7238, -0.7587],\n",
       "         [ 2.1868,  2.2043,  2.2043,  ..., -0.7587, -0.7064, -0.7238]]])"
      ]
     },
     "execution_count": 4,
     "metadata": {},
     "output_type": "execute_result"
    }
   ],
   "source": [
    "img"
   ]
  },
  {
   "cell_type": "code",
   "execution_count": 5,
   "metadata": {
    "pycharm": {
     "name": "#%%\n"
    }
   },
   "outputs": [
    {
     "data": {
      "text/html": [
       "<pre style=\"white-space:pre;overflow-x:auto;line-height:normal;font-family:Menlo,'DejaVu Sans Mono',consolas,'Courier New',monospace\"><span style=\"color: #800000; text-decoration-color: #800000\">╭─────────────────────────────── </span><span style=\"color: #800000; text-decoration-color: #800000; font-weight: bold\">Traceback </span><span style=\"color: #bf7f7f; text-decoration-color: #bf7f7f; font-weight: bold\">(most recent call last)</span><span style=\"color: #800000; text-decoration-color: #800000\"> ────────────────────────────────╮</span>\n",
       "<span style=\"color: #800000; text-decoration-color: #800000\">│</span> in <span style=\"color: #00ff00; text-decoration-color: #00ff00\">&lt;module&gt;</span>:<span style=\"color: #0000ff; text-decoration-color: #0000ff\">1</span>                                                                                    <span style=\"color: #800000; text-decoration-color: #800000\">│</span>\n",
       "<span style=\"color: #800000; text-decoration-color: #800000\">│</span>                                                                                                  <span style=\"color: #800000; text-decoration-color: #800000\">│</span>\n",
       "<span style=\"color: #800000; text-decoration-color: #800000\">│</span> <span style=\"color: #800000; text-decoration-color: #800000\">❱ </span>1 model = PoseDetector.load_from_checkpoint(<span style=\"color: #808000; text-decoration-color: #808000\">\"/home/nlp/ron.eliav/pose3d/ai-camera-pose-net</span>     <span style=\"color: #800000; text-decoration-color: #800000\">│</span>\n",
       "<span style=\"color: #800000; text-decoration-color: #800000\">│</span>   <span style=\"color: #7f7f7f; text-decoration-color: #7f7f7f\">2 </span>                                                                                             <span style=\"color: #800000; text-decoration-color: #800000\">│</span>\n",
       "<span style=\"color: #800000; text-decoration-color: #800000\">│</span>                                                                                                  <span style=\"color: #800000; text-decoration-color: #800000\">│</span>\n",
       "<span style=\"color: #800000; text-decoration-color: #800000\">│</span> <span style=\"color: #bfbf7f; text-decoration-color: #bfbf7f\">/home/nlp/ron.eliav/anaconda3/envs/QASemv2/lib/python3.8/site-packages/pytorch_lightning/core/</span><span style=\"color: #808000; text-decoration-color: #808000; font-weight: bold\">mo</span> <span style=\"color: #800000; text-decoration-color: #800000\">│</span>\n",
       "<span style=\"color: #800000; text-decoration-color: #800000\">│</span> <span style=\"color: #808000; text-decoration-color: #808000; font-weight: bold\">dule.py</span>:<span style=\"color: #0000ff; text-decoration-color: #0000ff\">1531</span> in <span style=\"color: #00ff00; text-decoration-color: #00ff00\">load_from_checkpoint</span>                                                             <span style=\"color: #800000; text-decoration-color: #800000\">│</span>\n",
       "<span style=\"color: #800000; text-decoration-color: #800000\">│</span>                                                                                                  <span style=\"color: #800000; text-decoration-color: #800000\">│</span>\n",
       "<span style=\"color: #800000; text-decoration-color: #800000\">│</span>   <span style=\"color: #7f7f7f; text-decoration-color: #7f7f7f\">1528 </span><span style=\"color: #bfbf7f; text-decoration-color: #bfbf7f\">│   │   │   </span><span style=\"color: #808000; text-decoration-color: #808000\">pretrained_model.freeze()</span>                                                     <span style=\"color: #800000; text-decoration-color: #800000\">│</span>\n",
       "<span style=\"color: #800000; text-decoration-color: #800000\">│</span>   <span style=\"color: #7f7f7f; text-decoration-color: #7f7f7f\">1529 </span><span style=\"color: #bfbf7f; text-decoration-color: #bfbf7f\">│   │   │   </span><span style=\"color: #808000; text-decoration-color: #808000\">y_hat = pretrained_model(x)</span>                                                   <span style=\"color: #800000; text-decoration-color: #800000\">│</span>\n",
       "<span style=\"color: #800000; text-decoration-color: #800000\">│</span>   <span style=\"color: #7f7f7f; text-decoration-color: #7f7f7f\">1530 </span><span style=\"color: #bfbf7f; text-decoration-color: #bfbf7f\">│   │   </span><span style=\"color: #808000; text-decoration-color: #808000\">\"\"\"</span>                                                                               <span style=\"color: #800000; text-decoration-color: #800000\">│</span>\n",
       "<span style=\"color: #800000; text-decoration-color: #800000\">│</span> <span style=\"color: #800000; text-decoration-color: #800000\">❱ </span>1531 <span style=\"color: #7f7f7f; text-decoration-color: #7f7f7f\">│   │   </span>loaded = _load_from_checkpoint(                                                   <span style=\"color: #800000; text-decoration-color: #800000\">│</span>\n",
       "<span style=\"color: #800000; text-decoration-color: #800000\">│</span>   <span style=\"color: #7f7f7f; text-decoration-color: #7f7f7f\">1532 │   │   │   </span><span style=\"color: #00ffff; text-decoration-color: #00ffff\">cls</span>,                                                                          <span style=\"color: #800000; text-decoration-color: #800000\">│</span>\n",
       "<span style=\"color: #800000; text-decoration-color: #800000\">│</span>   <span style=\"color: #7f7f7f; text-decoration-color: #7f7f7f\">1533 │   │   │   </span>checkpoint_path,                                                              <span style=\"color: #800000; text-decoration-color: #800000\">│</span>\n",
       "<span style=\"color: #800000; text-decoration-color: #800000\">│</span>   <span style=\"color: #7f7f7f; text-decoration-color: #7f7f7f\">1534 │   │   │   </span>map_location,                                                                 <span style=\"color: #800000; text-decoration-color: #800000\">│</span>\n",
       "<span style=\"color: #800000; text-decoration-color: #800000\">│</span>                                                                                                  <span style=\"color: #800000; text-decoration-color: #800000\">│</span>\n",
       "<span style=\"color: #800000; text-decoration-color: #800000\">│</span> <span style=\"color: #bfbf7f; text-decoration-color: #bfbf7f\">/home/nlp/ron.eliav/anaconda3/envs/QASemv2/lib/python3.8/site-packages/pytorch_lightning/core/</span><span style=\"color: #808000; text-decoration-color: #808000; font-weight: bold\">sa</span> <span style=\"color: #800000; text-decoration-color: #800000\">│</span>\n",
       "<span style=\"color: #800000; text-decoration-color: #800000\">│</span> <span style=\"color: #808000; text-decoration-color: #808000; font-weight: bold\">ving.py</span>:<span style=\"color: #0000ff; text-decoration-color: #0000ff\">90</span> in <span style=\"color: #00ff00; text-decoration-color: #00ff00\">_load_from_checkpoint</span>                                                              <span style=\"color: #800000; text-decoration-color: #800000\">│</span>\n",
       "<span style=\"color: #800000; text-decoration-color: #800000\">│</span>                                                                                                  <span style=\"color: #800000; text-decoration-color: #800000\">│</span>\n",
       "<span style=\"color: #800000; text-decoration-color: #800000\">│</span>   <span style=\"color: #7f7f7f; text-decoration-color: #7f7f7f\"> 87 │   </span><span style=\"color: #0000ff; text-decoration-color: #0000ff\">if</span> <span style=\"color: #00ffff; text-decoration-color: #00ffff\">issubclass</span>(<span style=\"color: #00ffff; text-decoration-color: #00ffff\">cls</span>, pl.LightningDataModule):                                            <span style=\"color: #800000; text-decoration-color: #800000\">│</span>\n",
       "<span style=\"color: #800000; text-decoration-color: #800000\">│</span>   <span style=\"color: #7f7f7f; text-decoration-color: #7f7f7f\"> 88 │   │   </span><span style=\"color: #0000ff; text-decoration-color: #0000ff\">return</span> _load_state(<span style=\"color: #00ffff; text-decoration-color: #00ffff\">cls</span>, checkpoint, **kwargs)                                      <span style=\"color: #800000; text-decoration-color: #800000\">│</span>\n",
       "<span style=\"color: #800000; text-decoration-color: #800000\">│</span>   <span style=\"color: #7f7f7f; text-decoration-color: #7f7f7f\"> 89 │   </span><span style=\"color: #0000ff; text-decoration-color: #0000ff\">if</span> <span style=\"color: #00ffff; text-decoration-color: #00ffff\">issubclass</span>(<span style=\"color: #00ffff; text-decoration-color: #00ffff\">cls</span>, pl.LightningModule):                                                <span style=\"color: #800000; text-decoration-color: #800000\">│</span>\n",
       "<span style=\"color: #800000; text-decoration-color: #800000\">│</span> <span style=\"color: #800000; text-decoration-color: #800000\">❱ </span> 90 <span style=\"color: #7f7f7f; text-decoration-color: #7f7f7f\">│   │   </span><span style=\"color: #0000ff; text-decoration-color: #0000ff\">return</span> _load_state(<span style=\"color: #00ffff; text-decoration-color: #00ffff\">cls</span>, checkpoint, strict=strict, **kwargs)                       <span style=\"color: #800000; text-decoration-color: #800000\">│</span>\n",
       "<span style=\"color: #800000; text-decoration-color: #800000\">│</span>   <span style=\"color: #7f7f7f; text-decoration-color: #7f7f7f\"> 91 │   </span><span style=\"color: #0000ff; text-decoration-color: #0000ff\">raise</span> <span style=\"color: #00ffff; text-decoration-color: #00ffff\">NotImplementedError</span>(<span style=\"color: #808000; text-decoration-color: #808000\">f\"Unsupported {</span><span style=\"color: #00ffff; text-decoration-color: #00ffff\">cls</span><span style=\"color: #808000; text-decoration-color: #808000\">}\"</span>)                                        <span style=\"color: #800000; text-decoration-color: #800000\">│</span>\n",
       "<span style=\"color: #800000; text-decoration-color: #800000\">│</span>   <span style=\"color: #7f7f7f; text-decoration-color: #7f7f7f\"> 92 </span>                                                                                           <span style=\"color: #800000; text-decoration-color: #800000\">│</span>\n",
       "<span style=\"color: #800000; text-decoration-color: #800000\">│</span>   <span style=\"color: #7f7f7f; text-decoration-color: #7f7f7f\"> 93 </span>                                                                                           <span style=\"color: #800000; text-decoration-color: #800000\">│</span>\n",
       "<span style=\"color: #800000; text-decoration-color: #800000\">│</span>                                                                                                  <span style=\"color: #800000; text-decoration-color: #800000\">│</span>\n",
       "<span style=\"color: #800000; text-decoration-color: #800000\">│</span> <span style=\"color: #bfbf7f; text-decoration-color: #bfbf7f\">/home/nlp/ron.eliav/anaconda3/envs/QASemv2/lib/python3.8/site-packages/pytorch_lightning/core/</span><span style=\"color: #808000; text-decoration-color: #808000; font-weight: bold\">sa</span> <span style=\"color: #800000; text-decoration-color: #800000\">│</span>\n",
       "<span style=\"color: #800000; text-decoration-color: #800000\">│</span> <span style=\"color: #808000; text-decoration-color: #808000; font-weight: bold\">ving.py</span>:<span style=\"color: #0000ff; text-decoration-color: #0000ff\">149</span> in <span style=\"color: #00ff00; text-decoration-color: #00ff00\">_load_state</span>                                                                       <span style=\"color: #800000; text-decoration-color: #800000\">│</span>\n",
       "<span style=\"color: #800000; text-decoration-color: #800000\">│</span>                                                                                                  <span style=\"color: #800000; text-decoration-color: #800000\">│</span>\n",
       "<span style=\"color: #800000; text-decoration-color: #800000\">│</span>   <span style=\"color: #7f7f7f; text-decoration-color: #7f7f7f\">146 │   </span>                                                                                       <span style=\"color: #800000; text-decoration-color: #800000\">│</span>\n",
       "<span style=\"color: #800000; text-decoration-color: #800000\">│</span>   <span style=\"color: #7f7f7f; text-decoration-color: #7f7f7f\">147 │   # load the state_dict on the model automatically</span>                                       <span style=\"color: #800000; text-decoration-color: #800000\">│</span>\n",
       "<span style=\"color: #800000; text-decoration-color: #800000\">│</span>   <span style=\"color: #7f7f7f; text-decoration-color: #7f7f7f\">148 │   </span><span style=\"color: #0000ff; text-decoration-color: #0000ff\">assert</span> strict <span style=\"color: #ff00ff; text-decoration-color: #ff00ff\">is</span> <span style=\"color: #ff00ff; text-decoration-color: #ff00ff\">not</span> <span style=\"color: #0000ff; text-decoration-color: #0000ff\">None</span>                                                              <span style=\"color: #800000; text-decoration-color: #800000\">│</span>\n",
       "<span style=\"color: #800000; text-decoration-color: #800000\">│</span> <span style=\"color: #800000; text-decoration-color: #800000\">❱ </span>149 <span style=\"color: #7f7f7f; text-decoration-color: #7f7f7f\">│   </span>keys = obj.load_state_dict(checkpoint[<span style=\"color: #808000; text-decoration-color: #808000\">\"state_dict\"</span>], strict=strict)                    <span style=\"color: #800000; text-decoration-color: #800000\">│</span>\n",
       "<span style=\"color: #800000; text-decoration-color: #800000\">│</span>   <span style=\"color: #7f7f7f; text-decoration-color: #7f7f7f\">150 │   </span>                                                                                       <span style=\"color: #800000; text-decoration-color: #800000\">│</span>\n",
       "<span style=\"color: #800000; text-decoration-color: #800000\">│</span>   <span style=\"color: #7f7f7f; text-decoration-color: #7f7f7f\">151 │   </span><span style=\"color: #0000ff; text-decoration-color: #0000ff\">if</span> <span style=\"color: #ff00ff; text-decoration-color: #ff00ff\">not</span> strict:                                                                         <span style=\"color: #800000; text-decoration-color: #800000\">│</span>\n",
       "<span style=\"color: #800000; text-decoration-color: #800000\">│</span>   <span style=\"color: #7f7f7f; text-decoration-color: #7f7f7f\">152 │   │   </span><span style=\"color: #0000ff; text-decoration-color: #0000ff\">if</span> keys.missing_keys:                                                              <span style=\"color: #800000; text-decoration-color: #800000\">│</span>\n",
       "<span style=\"color: #800000; text-decoration-color: #800000\">│</span>                                                                                                  <span style=\"color: #800000; text-decoration-color: #800000\">│</span>\n",
       "<span style=\"color: #800000; text-decoration-color: #800000\">│</span> <span style=\"color: #bfbf7f; text-decoration-color: #bfbf7f\">/home/nlp/ron.eliav/anaconda3/envs/QASemv2/lib/python3.8/site-packages/torch/nn/modules/</span><span style=\"color: #808000; text-decoration-color: #808000; font-weight: bold\">module.p</span> <span style=\"color: #800000; text-decoration-color: #800000\">│</span>\n",
       "<span style=\"color: #800000; text-decoration-color: #800000\">│</span> <span style=\"color: #808000; text-decoration-color: #808000; font-weight: bold\">y</span>:<span style=\"color: #0000ff; text-decoration-color: #0000ff\">2041</span> in <span style=\"color: #00ff00; text-decoration-color: #00ff00\">load_state_dict</span>                                                                        <span style=\"color: #800000; text-decoration-color: #800000\">│</span>\n",
       "<span style=\"color: #800000; text-decoration-color: #800000\">│</span>                                                                                                  <span style=\"color: #800000; text-decoration-color: #800000\">│</span>\n",
       "<span style=\"color: #800000; text-decoration-color: #800000\">│</span>   <span style=\"color: #7f7f7f; text-decoration-color: #7f7f7f\">2038 │   │   │   │   │   │   </span><span style=\"color: #808000; text-decoration-color: #808000\">', '</span>.join(<span style=\"color: #808000; text-decoration-color: #808000\">'\"{}\"'</span>.format(k) <span style=\"color: #0000ff; text-decoration-color: #0000ff\">for</span> k <span style=\"color: #ff00ff; text-decoration-color: #ff00ff\">in</span> missing_keys)))               <span style=\"color: #800000; text-decoration-color: #800000\">│</span>\n",
       "<span style=\"color: #800000; text-decoration-color: #800000\">│</span>   <span style=\"color: #7f7f7f; text-decoration-color: #7f7f7f\">2039 │   │   </span>                                                                                  <span style=\"color: #800000; text-decoration-color: #800000\">│</span>\n",
       "<span style=\"color: #800000; text-decoration-color: #800000\">│</span>   <span style=\"color: #7f7f7f; text-decoration-color: #7f7f7f\">2040 │   │   </span><span style=\"color: #0000ff; text-decoration-color: #0000ff\">if</span> <span style=\"color: #00ffff; text-decoration-color: #00ffff\">len</span>(error_msgs) &gt; <span style=\"color: #0000ff; text-decoration-color: #0000ff\">0</span>:                                                           <span style=\"color: #800000; text-decoration-color: #800000\">│</span>\n",
       "<span style=\"color: #800000; text-decoration-color: #800000\">│</span> <span style=\"color: #800000; text-decoration-color: #800000\">❱ </span>2041 <span style=\"color: #7f7f7f; text-decoration-color: #7f7f7f\">│   │   │   </span><span style=\"color: #0000ff; text-decoration-color: #0000ff\">raise</span> <span style=\"color: #00ffff; text-decoration-color: #00ffff\">RuntimeError</span>(<span style=\"color: #808000; text-decoration-color: #808000\">'Error(s) in loading state_dict for {}:\\n\\t{}'</span>.format(     <span style=\"color: #800000; text-decoration-color: #800000\">│</span>\n",
       "<span style=\"color: #800000; text-decoration-color: #800000\">│</span>   <span style=\"color: #7f7f7f; text-decoration-color: #7f7f7f\">2042 │   │   │   │   │   │   │      </span><span style=\"color: #00ffff; text-decoration-color: #00ffff\">self</span>.<span style=\"color: #ff0000; text-decoration-color: #ff0000\">__class__</span>.<span style=\"color: #ff0000; text-decoration-color: #ff0000\">__name__</span>, <span style=\"color: #808000; text-decoration-color: #808000\">\"\\n\\t\"</span>.join(error_msgs)))         <span style=\"color: #800000; text-decoration-color: #800000\">│</span>\n",
       "<span style=\"color: #800000; text-decoration-color: #800000\">│</span>   <span style=\"color: #7f7f7f; text-decoration-color: #7f7f7f\">2043 │   │   </span><span style=\"color: #0000ff; text-decoration-color: #0000ff\">return</span> _IncompatibleKeys(missing_keys, unexpected_keys)                           <span style=\"color: #800000; text-decoration-color: #800000\">│</span>\n",
       "<span style=\"color: #800000; text-decoration-color: #800000\">│</span>   <span style=\"color: #7f7f7f; text-decoration-color: #7f7f7f\">2044 </span>                                                                                          <span style=\"color: #800000; text-decoration-color: #800000\">│</span>\n",
       "<span style=\"color: #800000; text-decoration-color: #800000\">╰──────────────────────────────────────────────────────────────────────────────────────────────────╯</span>\n",
       "<span style=\"color: #ff0000; text-decoration-color: #ff0000; font-weight: bold\">RuntimeError: </span><span style=\"color: #800080; text-decoration-color: #800080; font-weight: bold\">Error</span><span style=\"font-weight: bold\">(</span>s<span style=\"font-weight: bold\">)</span> in loading state_dict for PoseDetector:\n",
       "        Missing <span style=\"color: #800080; text-decoration-color: #800080; font-weight: bold\">key</span><span style=\"font-weight: bold\">(</span>s<span style=\"font-weight: bold\">)</span> in state_dict: <span style=\"color: #008000; text-decoration-color: #008000\">\"regression.weight\"</span>, <span style=\"color: #008000; text-decoration-color: #008000\">\"regression.bias\"</span>. \n",
       "        Unexpected <span style=\"color: #800080; text-decoration-color: #800080; font-weight: bold\">key</span><span style=\"font-weight: bold\">(</span>s<span style=\"font-weight: bold\">)</span> in state_dict: <span style=\"color: #008000; text-decoration-color: #008000\">\"regression.fc1.weight\"</span>, <span style=\"color: #008000; text-decoration-color: #008000\">\"regression.fc1.bias\"</span>. \n",
       "</pre>\n"
      ],
      "text/plain": [
       "\u001B[31m╭─\u001B[0m\u001B[31m──────────────────────────────\u001B[0m\u001B[31m \u001B[0m\u001B[1;31mTraceback \u001B[0m\u001B[1;2;31m(most recent call last)\u001B[0m\u001B[31m \u001B[0m\u001B[31m───────────────────────────────\u001B[0m\u001B[31m─╮\u001B[0m\n",
       "\u001B[31m│\u001B[0m in \u001B[92m<module>\u001B[0m:\u001B[94m1\u001B[0m                                                                                    \u001B[31m│\u001B[0m\n",
       "\u001B[31m│\u001B[0m                                                                                                  \u001B[31m│\u001B[0m\n",
       "\u001B[31m│\u001B[0m \u001B[31m❱ \u001B[0m1 model = PoseDetector.load_from_checkpoint(\u001B[33m\"\u001B[0m\u001B[33m/home/nlp/ron.eliav/pose3d/ai-camera-pose-net\u001B[0m     \u001B[31m│\u001B[0m\n",
       "\u001B[31m│\u001B[0m   \u001B[2m2 \u001B[0m                                                                                             \u001B[31m│\u001B[0m\n",
       "\u001B[31m│\u001B[0m                                                                                                  \u001B[31m│\u001B[0m\n",
       "\u001B[31m│\u001B[0m \u001B[2;33m/home/nlp/ron.eliav/anaconda3/envs/QASemv2/lib/python3.8/site-packages/pytorch_lightning/core/\u001B[0m\u001B[1;33mmo\u001B[0m \u001B[31m│\u001B[0m\n",
       "\u001B[31m│\u001B[0m \u001B[1;33mdule.py\u001B[0m:\u001B[94m1531\u001B[0m in \u001B[92mload_from_checkpoint\u001B[0m                                                             \u001B[31m│\u001B[0m\n",
       "\u001B[31m│\u001B[0m                                                                                                  \u001B[31m│\u001B[0m\n",
       "\u001B[31m│\u001B[0m   \u001B[2m1528 \u001B[0m\u001B[2;33m│   │   │   \u001B[0m\u001B[33mpretrained_model.freeze()\u001B[0m                                                     \u001B[31m│\u001B[0m\n",
       "\u001B[31m│\u001B[0m   \u001B[2m1529 \u001B[0m\u001B[2;33m│   │   │   \u001B[0m\u001B[33my_hat = pretrained_model(x)\u001B[0m                                                   \u001B[31m│\u001B[0m\n",
       "\u001B[31m│\u001B[0m   \u001B[2m1530 \u001B[0m\u001B[2;33m│   │   \u001B[0m\u001B[33m\"\"\"\u001B[0m                                                                               \u001B[31m│\u001B[0m\n",
       "\u001B[31m│\u001B[0m \u001B[31m❱ \u001B[0m1531 \u001B[2m│   │   \u001B[0mloaded = _load_from_checkpoint(                                                   \u001B[31m│\u001B[0m\n",
       "\u001B[31m│\u001B[0m   \u001B[2m1532 \u001B[0m\u001B[2m│   │   │   \u001B[0m\u001B[96mcls\u001B[0m,                                                                          \u001B[31m│\u001B[0m\n",
       "\u001B[31m│\u001B[0m   \u001B[2m1533 \u001B[0m\u001B[2m│   │   │   \u001B[0mcheckpoint_path,                                                              \u001B[31m│\u001B[0m\n",
       "\u001B[31m│\u001B[0m   \u001B[2m1534 \u001B[0m\u001B[2m│   │   │   \u001B[0mmap_location,                                                                 \u001B[31m│\u001B[0m\n",
       "\u001B[31m│\u001B[0m                                                                                                  \u001B[31m│\u001B[0m\n",
       "\u001B[31m│\u001B[0m \u001B[2;33m/home/nlp/ron.eliav/anaconda3/envs/QASemv2/lib/python3.8/site-packages/pytorch_lightning/core/\u001B[0m\u001B[1;33msa\u001B[0m \u001B[31m│\u001B[0m\n",
       "\u001B[31m│\u001B[0m \u001B[1;33mving.py\u001B[0m:\u001B[94m90\u001B[0m in \u001B[92m_load_from_checkpoint\u001B[0m                                                              \u001B[31m│\u001B[0m\n",
       "\u001B[31m│\u001B[0m                                                                                                  \u001B[31m│\u001B[0m\n",
       "\u001B[31m│\u001B[0m   \u001B[2m 87 \u001B[0m\u001B[2m│   \u001B[0m\u001B[94mif\u001B[0m \u001B[96missubclass\u001B[0m(\u001B[96mcls\u001B[0m, pl.LightningDataModule):                                            \u001B[31m│\u001B[0m\n",
       "\u001B[31m│\u001B[0m   \u001B[2m 88 \u001B[0m\u001B[2m│   │   \u001B[0m\u001B[94mreturn\u001B[0m _load_state(\u001B[96mcls\u001B[0m, checkpoint, **kwargs)                                      \u001B[31m│\u001B[0m\n",
       "\u001B[31m│\u001B[0m   \u001B[2m 89 \u001B[0m\u001B[2m│   \u001B[0m\u001B[94mif\u001B[0m \u001B[96missubclass\u001B[0m(\u001B[96mcls\u001B[0m, pl.LightningModule):                                                \u001B[31m│\u001B[0m\n",
       "\u001B[31m│\u001B[0m \u001B[31m❱ \u001B[0m 90 \u001B[2m│   │   \u001B[0m\u001B[94mreturn\u001B[0m _load_state(\u001B[96mcls\u001B[0m, checkpoint, strict=strict, **kwargs)                       \u001B[31m│\u001B[0m\n",
       "\u001B[31m│\u001B[0m   \u001B[2m 91 \u001B[0m\u001B[2m│   \u001B[0m\u001B[94mraise\u001B[0m \u001B[96mNotImplementedError\u001B[0m(\u001B[33mf\u001B[0m\u001B[33m\"\u001B[0m\u001B[33mUnsupported \u001B[0m\u001B[33m{\u001B[0m\u001B[96mcls\u001B[0m\u001B[33m}\u001B[0m\u001B[33m\"\u001B[0m)                                        \u001B[31m│\u001B[0m\n",
       "\u001B[31m│\u001B[0m   \u001B[2m 92 \u001B[0m                                                                                           \u001B[31m│\u001B[0m\n",
       "\u001B[31m│\u001B[0m   \u001B[2m 93 \u001B[0m                                                                                           \u001B[31m│\u001B[0m\n",
       "\u001B[31m│\u001B[0m                                                                                                  \u001B[31m│\u001B[0m\n",
       "\u001B[31m│\u001B[0m \u001B[2;33m/home/nlp/ron.eliav/anaconda3/envs/QASemv2/lib/python3.8/site-packages/pytorch_lightning/core/\u001B[0m\u001B[1;33msa\u001B[0m \u001B[31m│\u001B[0m\n",
       "\u001B[31m│\u001B[0m \u001B[1;33mving.py\u001B[0m:\u001B[94m149\u001B[0m in \u001B[92m_load_state\u001B[0m                                                                       \u001B[31m│\u001B[0m\n",
       "\u001B[31m│\u001B[0m                                                                                                  \u001B[31m│\u001B[0m\n",
       "\u001B[31m│\u001B[0m   \u001B[2m146 \u001B[0m\u001B[2m│   \u001B[0m                                                                                       \u001B[31m│\u001B[0m\n",
       "\u001B[31m│\u001B[0m   \u001B[2m147 \u001B[0m\u001B[2m│   \u001B[0m\u001B[2m# load the state_dict on the model automatically\u001B[0m                                       \u001B[31m│\u001B[0m\n",
       "\u001B[31m│\u001B[0m   \u001B[2m148 \u001B[0m\u001B[2m│   \u001B[0m\u001B[94massert\u001B[0m strict \u001B[95mis\u001B[0m \u001B[95mnot\u001B[0m \u001B[94mNone\u001B[0m                                                              \u001B[31m│\u001B[0m\n",
       "\u001B[31m│\u001B[0m \u001B[31m❱ \u001B[0m149 \u001B[2m│   \u001B[0mkeys = obj.load_state_dict(checkpoint[\u001B[33m\"\u001B[0m\u001B[33mstate_dict\u001B[0m\u001B[33m\"\u001B[0m], strict=strict)                    \u001B[31m│\u001B[0m\n",
       "\u001B[31m│\u001B[0m   \u001B[2m150 \u001B[0m\u001B[2m│   \u001B[0m                                                                                       \u001B[31m│\u001B[0m\n",
       "\u001B[31m│\u001B[0m   \u001B[2m151 \u001B[0m\u001B[2m│   \u001B[0m\u001B[94mif\u001B[0m \u001B[95mnot\u001B[0m strict:                                                                         \u001B[31m│\u001B[0m\n",
       "\u001B[31m│\u001B[0m   \u001B[2m152 \u001B[0m\u001B[2m│   │   \u001B[0m\u001B[94mif\u001B[0m keys.missing_keys:                                                              \u001B[31m│\u001B[0m\n",
       "\u001B[31m│\u001B[0m                                                                                                  \u001B[31m│\u001B[0m\n",
       "\u001B[31m│\u001B[0m \u001B[2;33m/home/nlp/ron.eliav/anaconda3/envs/QASemv2/lib/python3.8/site-packages/torch/nn/modules/\u001B[0m\u001B[1;33mmodule.p\u001B[0m \u001B[31m│\u001B[0m\n",
       "\u001B[31m│\u001B[0m \u001B[1;33my\u001B[0m:\u001B[94m2041\u001B[0m in \u001B[92mload_state_dict\u001B[0m                                                                        \u001B[31m│\u001B[0m\n",
       "\u001B[31m│\u001B[0m                                                                                                  \u001B[31m│\u001B[0m\n",
       "\u001B[31m│\u001B[0m   \u001B[2m2038 \u001B[0m\u001B[2m│   │   │   │   │   │   \u001B[0m\u001B[33m'\u001B[0m\u001B[33m, \u001B[0m\u001B[33m'\u001B[0m.join(\u001B[33m'\u001B[0m\u001B[33m\"\u001B[0m\u001B[33m{}\u001B[0m\u001B[33m\"\u001B[0m\u001B[33m'\u001B[0m.format(k) \u001B[94mfor\u001B[0m k \u001B[95min\u001B[0m missing_keys)))               \u001B[31m│\u001B[0m\n",
       "\u001B[31m│\u001B[0m   \u001B[2m2039 \u001B[0m\u001B[2m│   │   \u001B[0m                                                                                  \u001B[31m│\u001B[0m\n",
       "\u001B[31m│\u001B[0m   \u001B[2m2040 \u001B[0m\u001B[2m│   │   \u001B[0m\u001B[94mif\u001B[0m \u001B[96mlen\u001B[0m(error_msgs) > \u001B[94m0\u001B[0m:                                                           \u001B[31m│\u001B[0m\n",
       "\u001B[31m│\u001B[0m \u001B[31m❱ \u001B[0m2041 \u001B[2m│   │   │   \u001B[0m\u001B[94mraise\u001B[0m \u001B[96mRuntimeError\u001B[0m(\u001B[33m'\u001B[0m\u001B[33mError(s) in loading state_dict for \u001B[0m\u001B[33m{}\u001B[0m\u001B[33m:\u001B[0m\u001B[33m\\n\u001B[0m\u001B[33m\\t\u001B[0m\u001B[33m{}\u001B[0m\u001B[33m'\u001B[0m.format(     \u001B[31m│\u001B[0m\n",
       "\u001B[31m│\u001B[0m   \u001B[2m2042 \u001B[0m\u001B[2m│   │   │   │   │   │   │      \u001B[0m\u001B[96mself\u001B[0m.\u001B[91m__class__\u001B[0m.\u001B[91m__name__\u001B[0m, \u001B[33m\"\u001B[0m\u001B[33m\\n\u001B[0m\u001B[33m\\t\u001B[0m\u001B[33m\"\u001B[0m.join(error_msgs)))         \u001B[31m│\u001B[0m\n",
       "\u001B[31m│\u001B[0m   \u001B[2m2043 \u001B[0m\u001B[2m│   │   \u001B[0m\u001B[94mreturn\u001B[0m _IncompatibleKeys(missing_keys, unexpected_keys)                           \u001B[31m│\u001B[0m\n",
       "\u001B[31m│\u001B[0m   \u001B[2m2044 \u001B[0m                                                                                          \u001B[31m│\u001B[0m\n",
       "\u001B[31m╰──────────────────────────────────────────────────────────────────────────────────────────────────╯\u001B[0m\n",
       "\u001B[1;91mRuntimeError: \u001B[0m\u001B[1;35mError\u001B[0m\u001B[1m(\u001B[0ms\u001B[1m)\u001B[0m in loading state_dict for PoseDetector:\n",
       "        Missing \u001B[1;35mkey\u001B[0m\u001B[1m(\u001B[0ms\u001B[1m)\u001B[0m in state_dict: \u001B[32m\"regression.weight\"\u001B[0m, \u001B[32m\"regression.bias\"\u001B[0m. \n",
       "        Unexpected \u001B[1;35mkey\u001B[0m\u001B[1m(\u001B[0ms\u001B[1m)\u001B[0m in state_dict: \u001B[32m\"regression.fc1.weight\"\u001B[0m, \u001B[32m\"regression.fc1.bias\"\u001B[0m. \n"
      ]
     },
     "metadata": {},
     "output_type": "display_data"
    }
   ],
   "source": [
    "model = PoseDetector.load_from_checkpoint(\"/home/nlp/ron.eliav/pose3d/ai-camera-pose-network/src/lightning_logs/version_9/checkpoints/epoch=108-step=3270.ckpt\")"
   ]
  },
  {
   "cell_type": "code",
   "execution_count": 6,
   "metadata": {
    "pycharm": {
     "name": "#%%\n"
    }
   },
   "outputs": [
    {
     "data": {
      "text/html": [
       "<pre style=\"white-space:pre;overflow-x:auto;line-height:normal;font-family:Menlo,'DejaVu Sans Mono',consolas,'Courier New',monospace\"><span style=\"color: #800000; text-decoration-color: #800000\">╭─────────────────────────────── </span><span style=\"color: #800000; text-decoration-color: #800000; font-weight: bold\">Traceback </span><span style=\"color: #bf7f7f; text-decoration-color: #bf7f7f; font-weight: bold\">(most recent call last)</span><span style=\"color: #800000; text-decoration-color: #800000\"> ────────────────────────────────╮</span>\n",
       "<span style=\"color: #800000; text-decoration-color: #800000\">│</span> in <span style=\"color: #00ff00; text-decoration-color: #00ff00\">&lt;module&gt;</span>:<span style=\"color: #0000ff; text-decoration-color: #0000ff\">3</span>                                                                                    <span style=\"color: #800000; text-decoration-color: #800000\">│</span>\n",
       "<span style=\"color: #800000; text-decoration-color: #800000\">│</span>                                                                                                  <span style=\"color: #800000; text-decoration-color: #800000\">│</span>\n",
       "<span style=\"color: #800000; text-decoration-color: #800000\">│</span>   <span style=\"color: #7f7f7f; text-decoration-color: #7f7f7f\">1 # expand tensor dimensions to match model input</span>                                              <span style=\"color: #800000; text-decoration-color: #800000\">│</span>\n",
       "<span style=\"color: #800000; text-decoration-color: #800000\">│</span>   <span style=\"color: #7f7f7f; text-decoration-color: #7f7f7f\">2 </span>img = torch.unsqueeze(img, <span style=\"color: #0000ff; text-decoration-color: #0000ff\">0</span>)                                                                <span style=\"color: #800000; text-decoration-color: #800000\">│</span>\n",
       "<span style=\"color: #800000; text-decoration-color: #800000\">│</span> <span style=\"color: #800000; text-decoration-color: #800000\">❱ </span>3 model(img)                                                                                   <span style=\"color: #800000; text-decoration-color: #800000\">│</span>\n",
       "<span style=\"color: #800000; text-decoration-color: #800000\">│</span>   <span style=\"color: #7f7f7f; text-decoration-color: #7f7f7f\">4 # dev: 34132.3559,41088.3516,12.0351,161.386998058,87.677117148,-50.072881833</span>                <span style=\"color: #800000; text-decoration-color: #800000\">│</span>\n",
       "<span style=\"color: #800000; text-decoration-color: #800000\">│</span>   <span style=\"color: #7f7f7f; text-decoration-color: #7f7f7f\">5 # train: 34768.9649,42018.1341,15.2489,153.73610589,85.94014665,-40.957096437</span>                <span style=\"color: #800000; text-decoration-color: #800000\">│</span>\n",
       "<span style=\"color: #800000; text-decoration-color: #800000\">│</span>   <span style=\"color: #7f7f7f; text-decoration-color: #7f7f7f\">6 </span>                                                                                             <span style=\"color: #800000; text-decoration-color: #800000\">│</span>\n",
       "<span style=\"color: #800000; text-decoration-color: #800000\">╰──────────────────────────────────────────────────────────────────────────────────────────────────╯</span>\n",
       "<span style=\"color: #ff0000; text-decoration-color: #ff0000; font-weight: bold\">NameError: </span>name <span style=\"color: #008000; text-decoration-color: #008000\">'model'</span> is not defined\n",
       "</pre>\n"
      ],
      "text/plain": [
       "\u001B[31m╭─\u001B[0m\u001B[31m──────────────────────────────\u001B[0m\u001B[31m \u001B[0m\u001B[1;31mTraceback \u001B[0m\u001B[1;2;31m(most recent call last)\u001B[0m\u001B[31m \u001B[0m\u001B[31m───────────────────────────────\u001B[0m\u001B[31m─╮\u001B[0m\n",
       "\u001B[31m│\u001B[0m in \u001B[92m<module>\u001B[0m:\u001B[94m3\u001B[0m                                                                                    \u001B[31m│\u001B[0m\n",
       "\u001B[31m│\u001B[0m                                                                                                  \u001B[31m│\u001B[0m\n",
       "\u001B[31m│\u001B[0m   \u001B[2m1 \u001B[0m\u001B[2m# expand tensor dimensions to match model input\u001B[0m                                              \u001B[31m│\u001B[0m\n",
       "\u001B[31m│\u001B[0m   \u001B[2m2 \u001B[0mimg = torch.unsqueeze(img, \u001B[94m0\u001B[0m)                                                                \u001B[31m│\u001B[0m\n",
       "\u001B[31m│\u001B[0m \u001B[31m❱ \u001B[0m3 model(img)                                                                                   \u001B[31m│\u001B[0m\n",
       "\u001B[31m│\u001B[0m   \u001B[2m4 \u001B[0m\u001B[2m# dev: 34132.3559,41088.3516,12.0351,161.386998058,87.677117148,-50.072881833\u001B[0m                \u001B[31m│\u001B[0m\n",
       "\u001B[31m│\u001B[0m   \u001B[2m5 \u001B[0m\u001B[2m# train: 34768.9649,42018.1341,15.2489,153.73610589,85.94014665,-40.957096437\u001B[0m                \u001B[31m│\u001B[0m\n",
       "\u001B[31m│\u001B[0m   \u001B[2m6 \u001B[0m                                                                                             \u001B[31m│\u001B[0m\n",
       "\u001B[31m╰──────────────────────────────────────────────────────────────────────────────────────────────────╯\u001B[0m\n",
       "\u001B[1;91mNameError: \u001B[0mname \u001B[32m'model'\u001B[0m is not defined\n"
      ]
     },
     "metadata": {},
     "output_type": "display_data"
    }
   ],
   "source": [
    "# expand tensor dimensions to match model input\n",
    "img = torch.unsqueeze(img, 0)\n",
    "model(img)\n",
    "# dev: 34132.3559,41088.3516,12.0351,161.386998058,87.677117148,-50.072881833\n",
    "# train: 34768.9649,42018.1341,15.2489,153.73610589,85.94014665,-40.957096437\n"
   ]
  },
  {
   "cell_type": "code",
   "execution_count": 14,
   "metadata": {
    "pycharm": {
     "name": "#%%\n"
    }
   },
   "outputs": [
    {
     "data": {
      "text/plain": [
       "tensor([ 3.4132e+04,  4.1088e+04,  1.2035e+01,  1.6139e+02,  8.7677e+01,\n",
       "        -5.0073e+01])"
      ]
     },
     "execution_count": 14,
     "metadata": {},
     "output_type": "execute_result"
    }
   ],
   "source": [
    "torch.tensor([34132.3559,41088.3516,12.0351,161.386998058,87.677117148,-50.072881833])"
   ]
  },
  {
   "cell_type": "code",
   "execution_count": null,
   "metadata": {
    "pycharm": {
     "name": "#%%\n"
    }
   },
   "outputs": [],
   "source": []
  }
 ],
 "metadata": {
  "kernelspec": {
   "display_name": "QASemv2",
   "language": "python",
   "name": "python3"
  },
  "language_info": {
   "codemirror_mode": {
    "name": "ipython",
    "version": 3
   },
   "file_extension": ".py",
   "mimetype": "text/x-python",
   "name": "python",
   "nbconvert_exporter": "python",
   "pygments_lexer": "ipython3",
   "version": "3.8.16"
  },
  "orig_nbformat": 4
 },
 "nbformat": 4,
 "nbformat_minor": 2
}